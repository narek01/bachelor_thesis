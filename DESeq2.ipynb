{
 "cells": [
  {
   "cell_type": "markdown",
   "id": "5e1ea2d0",
   "metadata": {},
   "source": [
    "# Pseudobulk analysis of differential expression"
   ]
  },
  {
   "cell_type": "code",
   "execution_count": 34,
   "id": "7890976c",
   "metadata": {},
   "outputs": [],
   "source": [
    "import pandas as pd\n",
    "import rpy2.robjects as ro\n",
    "from rpy2.robjects.packages import importr\n",
    "from rpy2.robjects import pandas2ri\n",
    "from rpy2.robjects.conversion import localconverter\n",
    "\n",
    "pandas2ri.activate()\n",
    "DESeq2 = importr(\"DESeq2\")\n",
    "\n",
    "from rpy2.robjects import default_converter\n",
    "from rpy2.robjects.conversion import rpy2py\n",
    "base = importr(\"base\")"
   ]
  },
  {
   "cell_type": "code",
   "execution_count": 35,
   "id": "13e26aa2",
   "metadata": {},
   "outputs": [],
   "source": [
    "from pathlib import Path\n",
    "import pandas as pd\n",
    "import seaborn as sns\n",
    "import matplotlib.pyplot as plt\n",
    "from time import time, gmtime, sleep\n",
    "import sys\n",
    "sys.path.append(\"/home/jovyan/HSE-Bioinformatics\")\n",
    "sys.path.append(\"/home/jovyan/diploma_scripts/scripts\")\n",
    "from bio import *\n",
    "import dcona_runs\n",
    "import dcona\n",
    "from tqdm.auto import tqdm; tqdm.pandas()\n",
    "import telegram_send\n",
    "import multiprocessing\n",
    "import os"
   ]
  },
  {
   "cell_type": "code",
   "execution_count": 3,
   "id": "ded019ec",
   "metadata": {},
   "outputs": [],
   "source": [
    "SHARED_PATH = Path('/home/jovyan/shared')\n",
    "TCGA_PATH = SHARED_PATH / 'TCGA_data'\n",
    "OUTPUT_PATH = SHARED_PATH / 'narek/outputs'\n",
    "BRCA_DATA = SHARED_PATH / 'narek/Diplom2/data_BRCA'\n",
    "\n",
    "TCGA_STUDY = 'TCGA-BRCA'\n",
    "iso_type = \"pan_cancer_exclusive_log2_FPM_DESeq2\"\n",
    "annotation = rt(BRCA_DATA/'annotation.tsv')\n"
   ]
  },
  {
   "cell_type": "markdown",
   "id": "44ccd4b1",
   "metadata": {},
   "source": [
    "# prep expression marix and gene list"
   ]
  },
  {
   "cell_type": "code",
   "execution_count": 49,
   "id": "862cefdf",
   "metadata": {},
   "outputs": [],
   "source": [
    "def deseq(meta: pd.DataFrame, counts: pd.DataFrame, formula: str, ref: str, exp: str):\n",
    "    dds = DESeq2.DESeqDataSetFromMatrix(countData=counts, colData=meta, design=ro.Formula(formula))\n",
    "    dds = DESeq2.DESeq(dds)\n",
    "    print(f\"Group_{exp}_vs_{ref}\")\n",
    "    resR = DESeq2.results(dds, name=f\"Group_{ref}_vs_{exp}\")\n",
    "    res = r_to_df(resR)\n",
    "    res = res.sort_values(\"padj\")\n",
    "    res = res.loc[res[\"padj\"] < 0.05]\n",
    "    res = res.loc[res[\"log2FoldChange\"].abs() > 0.5]\n",
    "\n",
    "    return res\n",
    "\n",
    "\n",
    "def r_to_df(r_df):\n",
    "    with localconverter(default_converter + pandas2ri.converter):\n",
    "        return rpy2py(base.as_data_frame(r_df))"
   ]
  },
  {
   "cell_type": "code",
   "execution_count": 13,
   "id": "910ea1dc",
   "metadata": {},
   "outputs": [],
   "source": [
    "# gene_exp = rt(f\"{TCGA_PATH}/{TCGA_STUDY}/RSEM_transcript_pan_cancer_log2_FPKM_DESeq2.tsv\")\n",
    "# mirna = rt(f\"{TCGA_PATH}/{TCGA_STUDY}/isoMiRmap_{iso_type}.tsv\")\n",
    "# descr = rc(SHARED_PATH/'narek/outputs/sample_cuts/DROSHA_normal_ENST00000513349_62_samples.csv')\n",
    "# raw_ts_inter = rt(SHARED_PATH/'miRNA_predictions_BRCA/TargetScan.tsv', i=None)\n",
    "# data = dcona_runs.DataProcessor(gene_exp, annotation, mirna)\n",
    "# data.cutoff_expressions(subtypes=cancer_subtypes)\n",
    "# data.cutoff_mirnas()\n",
    "# brca_ts_filtered, descr_ts_filtered, interaction_ts_filtered = data.final_data(descr, raw_ts_inter)\n",
    "# data.expr_united.to_csv('~/diploma_scripts/aux/expr95_mirna99.csv', columns=[])"
   ]
  },
  {
   "cell_type": "code",
   "execution_count": 5,
   "id": "4f17c1dc",
   "metadata": {},
   "outputs": [
    {
     "data": {
      "text/plain": [
       "Index(['ENST00000361624', 'ENST00000362079', 'ENST00000361381',\n",
       "       'ENST00000361899', 'ENST00000331523', 'ENST00000361739',\n",
       "       'ENST00000361453', 'ENST00000361390', 'ENST00000361789',\n",
       "       'ENST00000387347',\n",
       "       ...\n",
       "       'hsa-miR-92b-3p|0', 'hsa-miR-10a-5p|-1', 'hsa-miR-93-5p|+3',\n",
       "       'hsa-miR-99b-5p|+1', 'hsa-miR-128-3p|0', 'hsa-miR-15a-5p|0',\n",
       "       'hsa-miR-361-3p|0', 'hsa-miR-629-5p|0', 'hsa-miR-143-3p|+3',\n",
       "       'hsa-let-7b-3p|0'],\n",
       "      dtype='object', length=23518)"
      ]
     },
     "execution_count": 5,
     "metadata": {},
     "output_type": "execute_result"
    }
   ],
   "source": [
    "gene_ids = rc('~/diploma_scripts/aux/expr95_mirna99.csv').index\n",
    "gene_ids"
   ]
  },
  {
   "cell_type": "code",
   "execution_count": 6,
   "id": "e4040597",
   "metadata": {},
   "outputs": [],
   "source": [
    "gene_exp_counts = rt(f\"{TCGA_PATH}/{TCGA_STUDY}/RSEM_transcript_pan_cancer_counts.tsv\")\n",
    "mirna_counts = rt(f\"{TCGA_PATH}/{TCGA_STUDY}/isoMiRmap_pan_cancer_exclusive_counts.tsv\")"
   ]
  },
  {
   "cell_type": "code",
   "execution_count": 11,
   "id": "23403c06",
   "metadata": {},
   "outputs": [],
   "source": [
    "mirna_counts_5prime = dcona_runs.isomir_groupby_5prime(mirna_counts, counts_data=True)"
   ]
  },
  {
   "cell_type": "code",
   "execution_count": 24,
   "id": "ba2af4c7",
   "metadata": {},
   "outputs": [],
   "source": [
    "united_data = pd.concat(tcga_match_samples(\n",
    "    dcona_runs.remove_transcript_version(gene_exp_counts.drop('gene symbol', axis=1)),\n",
    "    mirna_counts_5prime.drop('median', axis=1))\n",
    "                       ).loc[gene_ids]"
   ]
  },
  {
   "cell_type": "code",
   "execution_count": 154,
   "id": "e8ac8fe0",
   "metadata": {},
   "outputs": [],
   "source": [
    "descr = rc(SHARED_PATH/'narek/outputs/sample_cuts/AGO2_luminalA_ENST00000220592_113_samples.csv')\n",
    "descr = descr.set_index('Sample')"
   ]
  },
  {
   "cell_type": "code",
   "execution_count": 155,
   "id": "fb91985a",
   "metadata": {},
   "outputs": [],
   "source": [
    "extracted_united = dcona_runs.extract_samples(united_data, descr.index)"
   ]
  },
  {
   "cell_type": "code",
   "execution_count": 10,
   "id": "d931728e",
   "metadata": {},
   "outputs": [
    {
     "data": {
      "text/plain": [
       "<module 'dcona_runs' from '/home/jovyan/diploma_scripts/scripts/dcona_runs.py'>"
      ]
     },
     "execution_count": 10,
     "metadata": {},
     "output_type": "execute_result"
    }
   ],
   "source": [
    "from importlib import reload\n",
    "reload(dcona_runs)"
   ]
  },
  {
   "cell_type": "code",
   "execution_count": null,
   "id": "25a546a7",
   "metadata": {},
   "outputs": [],
   "source": [
    "res = deseq(meta=descr, counts=extracted_united, formula=\"~Group\", ref=\"Low_expr\", exp=\"High_expr\")\n",
    "res"
   ]
  },
  {
   "cell_type": "code",
   "execution_count": 156,
   "id": "44f4954e",
   "metadata": {},
   "outputs": [
    {
     "data": {
      "text/plain": [
       "296971.7894736842"
      ]
     },
     "execution_count": 156,
     "metadata": {},
     "output_type": "execute_result"
    }
   ],
   "source": [
    "extracted_united.loc['hsa-miR-148a-3p|0', descr.loc[descr['Group'] == 'Low_expr'].index].mean()"
   ]
  },
  {
   "cell_type": "code",
   "execution_count": 157,
   "id": "9d7fe1c8",
   "metadata": {},
   "outputs": [
    {
     "data": {
      "text/plain": [
       "141277.4642857143"
      ]
     },
     "execution_count": 157,
     "metadata": {},
     "output_type": "execute_result"
    }
   ],
   "source": [
    "extracted_united.loc['hsa-miR-148a-3p|0', descr.loc[descr['Group'] == 'High_expr'].index].mean()"
   ]
  },
  {
   "cell_type": "markdown",
   "id": "63939d22",
   "metadata": {},
   "source": [
    "# Results"
   ]
  },
  {
   "cell_type": "code",
   "execution_count": 136,
   "id": "43ca1de6",
   "metadata": {},
   "outputs": [],
   "source": [
    "mir_dict = dict()\n",
    "for i in range(1, 11):\n",
    "    df = rt(OUTPUT_PATH/'experiments'/str(i)/'DESeq2_all_mirnas.tsv')\n",
    "    df = df.loc[df.index.str.contains('hsa')]\n",
    "    mir_dict[i] = df\n",
    "    del df"
   ]
  },
  {
   "cell_type": "code",
   "execution_count": 167,
   "id": "53bfa494",
   "metadata": {},
   "outputs": [
    {
     "data": {
      "text/plain": [
       "(array([-1.,  1.]), array([285, 152]))"
      ]
     },
     "execution_count": 167,
     "metadata": {},
     "output_type": "execute_result"
    }
   ],
   "source": [
    "np.unique(np.sign(mir_dict[10]['log2FoldChange']), return_counts=True)"
   ]
  },
  {
   "cell_type": "code",
   "execution_count": 164,
   "id": "6f8313e4",
   "metadata": {},
   "outputs": [
    {
     "data": {
      "text/html": [
       "<div>\n",
       "<style scoped>\n",
       "    .dataframe tbody tr th:only-of-type {\n",
       "        vertical-align: middle;\n",
       "    }\n",
       "\n",
       "    .dataframe tbody tr th {\n",
       "        vertical-align: top;\n",
       "    }\n",
       "\n",
       "    .dataframe thead th {\n",
       "        text-align: right;\n",
       "    }\n",
       "</style>\n",
       "<table border=\"1\" class=\"dataframe\">\n",
       "  <thead>\n",
       "    <tr style=\"text-align: right;\">\n",
       "      <th></th>\n",
       "      <th>baseMean</th>\n",
       "      <th>log2FoldChange</th>\n",
       "      <th>lfcSE</th>\n",
       "      <th>stat</th>\n",
       "      <th>pvalue</th>\n",
       "      <th>padj</th>\n",
       "    </tr>\n",
       "  </thead>\n",
       "  <tbody>\n",
       "    <tr>\n",
       "      <th>hsa-miR-577|0</th>\n",
       "      <td>9.092564</td>\n",
       "      <td>2.525417</td>\n",
       "      <td>0.549824</td>\n",
       "      <td>4.593138</td>\n",
       "      <td>0.000004</td>\n",
       "      <td>0.005309</td>\n",
       "    </tr>\n",
       "  </tbody>\n",
       "</table>\n",
       "</div>"
      ],
      "text/plain": [
       "               baseMean  log2FoldChange     lfcSE      stat    pvalue  \\\n",
       "hsa-miR-577|0  9.092564        2.525417  0.549824  4.593138  0.000004   \n",
       "\n",
       "                   padj  \n",
       "hsa-miR-577|0  0.005309  "
      ]
     },
     "execution_count": 164,
     "metadata": {},
     "output_type": "execute_result"
    }
   ],
   "source": [
    "mir_dict[7]"
   ]
  },
  {
   "cell_type": "code",
   "execution_count": null,
   "id": "81065ce6",
   "metadata": {},
   "outputs": [],
   "source": []
  }
 ],
 "metadata": {
  "kernelspec": {
   "display_name": "Python 3 (ipykernel)",
   "language": "python",
   "name": "python3"
  },
  "language_info": {
   "codemirror_mode": {
    "name": "ipython",
    "version": 3
   },
   "file_extension": ".py",
   "mimetype": "text/x-python",
   "name": "python",
   "nbconvert_exporter": "python",
   "pygments_lexer": "ipython3",
   "version": "3.9.14"
  }
 },
 "nbformat": 4,
 "nbformat_minor": 5
}
