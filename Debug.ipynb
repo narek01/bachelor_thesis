{
 "cells": [
  {
   "cell_type": "code",
   "execution_count": 1,
   "id": "56bbacd1",
   "metadata": {},
   "outputs": [],
   "source": [
    "import gspread\n",
    "from pathlib import Path\n",
    "import pandas as pd\n",
    "import seaborn as sns\n",
    "import matplotlib.pyplot as plt\n",
    "from time import time, gmtime, sleep\n",
    "import sys\n",
    "sys.path.append(\"/home/jovyan/HSE-Bioinformatics\")\n",
    "sys.path.append(\"/home/jovyan/diploma_scripts/scripts\")\n",
    "from bio import *\n",
    "import dcona_runs\n",
    "import dcona\n",
    "from tqdm.auto import tqdm; tqdm.pandas()\n",
    "import telegram_send\n",
    "import multiprocessing\n",
    "import os"
   ]
  },
  {
   "cell_type": "code",
   "execution_count": null,
   "id": "2586ee3b",
   "metadata": {},
   "outputs": [],
   "source": []
  }
 ],
 "metadata": {
  "kernelspec": {
   "display_name": "Python 3 (ipykernel)",
   "language": "python",
   "name": "python3"
  },
  "language_info": {
   "codemirror_mode": {
    "name": "ipython",
    "version": 3
   },
   "file_extension": ".py",
   "mimetype": "text/x-python",
   "name": "python",
   "nbconvert_exporter": "python",
   "pygments_lexer": "ipython3",
   "version": "3.9.14"
  }
 },
 "nbformat": 4,
 "nbformat_minor": 5
}
